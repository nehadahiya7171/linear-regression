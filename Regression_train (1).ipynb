{
 "cells": [
  {
   "cell_type": "code",
   "execution_count": 1,
   "metadata": {},
   "outputs": [],
   "source": [
    "import numpy as np\n",
    "import pandas as pd\n",
    "import matplotlib.pyplot as plt"
   ]
  },
  {
   "cell_type": "code",
   "execution_count": 2,
   "metadata": {},
   "outputs": [],
   "source": [
    "train=pd.read_csv('regression_train.csv')"
   ]
  },
  {
   "cell_type": "code",
   "execution_count": 3,
   "metadata": {},
   "outputs": [
    {
     "data": {
      "text/html": [
       "<div>\n",
       "<style scoped>\n",
       "    .dataframe tbody tr th:only-of-type {\n",
       "        vertical-align: middle;\n",
       "    }\n",
       "\n",
       "    .dataframe tbody tr th {\n",
       "        vertical-align: top;\n",
       "    }\n",
       "\n",
       "    .dataframe thead th {\n",
       "        text-align: right;\n",
       "    }\n",
       "</style>\n",
       "<table border=\"1\" class=\"dataframe\">\n",
       "  <thead>\n",
       "    <tr style=\"text-align: right;\">\n",
       "      <th></th>\n",
       "      <th>data1</th>\n",
       "      <th>data2</th>\n",
       "      <th>data3</th>\n",
       "      <th>data4</th>\n",
       "      <th>data5</th>\n",
       "      <th>data6</th>\n",
       "      <th>data7</th>\n",
       "      <th>data8</th>\n",
       "      <th>data9</th>\n",
       "      <th>data10</th>\n",
       "      <th>output</th>\n",
       "    </tr>\n",
       "  </thead>\n",
       "  <tbody>\n",
       "    <tr>\n",
       "      <th>0</th>\n",
       "      <td>8</td>\n",
       "      <td>279</td>\n",
       "      <td>C</td>\n",
       "      <td>14.451155</td>\n",
       "      <td>1139.0</td>\n",
       "      <td>1.0</td>\n",
       "      <td>9.302908</td>\n",
       "      <td>1.0</td>\n",
       "      <td>M</td>\n",
       "      <td>p</td>\n",
       "      <td>86.108947</td>\n",
       "    </tr>\n",
       "    <tr>\n",
       "      <th>1</th>\n",
       "      <td>1</td>\n",
       "      <td>108</td>\n",
       "      <td>H</td>\n",
       "      <td>14.207448</td>\n",
       "      <td>1656.0</td>\n",
       "      <td>1.0</td>\n",
       "      <td>7.220130</td>\n",
       "      <td>0.0</td>\n",
       "      <td>M</td>\n",
       "      <td>p</td>\n",
       "      <td>42.606833</td>\n",
       "    </tr>\n",
       "    <tr>\n",
       "      <th>2</th>\n",
       "      <td>8</td>\n",
       "      <td>258</td>\n",
       "      <td>A</td>\n",
       "      <td>19.220830</td>\n",
       "      <td>2817.0</td>\n",
       "      <td>1.0</td>\n",
       "      <td>8.727214</td>\n",
       "      <td>1.0</td>\n",
       "      <td>M</td>\n",
       "      <td>p</td>\n",
       "      <td>85.625961</td>\n",
       "    </tr>\n",
       "    <tr>\n",
       "      <th>3</th>\n",
       "      <td>4</td>\n",
       "      <td>147</td>\n",
       "      <td>A</td>\n",
       "      <td>15.752732</td>\n",
       "      <td>1948.0</td>\n",
       "      <td>1.0</td>\n",
       "      <td>6.078818</td>\n",
       "      <td>1.0</td>\n",
       "      <td>M</td>\n",
       "      <td>p</td>\n",
       "      <td>53.656277</td>\n",
       "    </tr>\n",
       "    <tr>\n",
       "      <th>4</th>\n",
       "      <td>5</td>\n",
       "      <td>230</td>\n",
       "      <td>H</td>\n",
       "      <td>10.195407</td>\n",
       "      <td>1336.0</td>\n",
       "      <td>1.0</td>\n",
       "      <td>4.749185</td>\n",
       "      <td>0.0</td>\n",
       "      <td>M</td>\n",
       "      <td>p</td>\n",
       "      <td>64.925051</td>\n",
       "    </tr>\n",
       "  </tbody>\n",
       "</table>\n",
       "</div>"
      ],
      "text/plain": [
       "   data1  data2 data3      data4   data5  data6     data7  data8 data9 data10  \\\n",
       "0      8    279     C  14.451155  1139.0    1.0  9.302908    1.0     M      p   \n",
       "1      1    108     H  14.207448  1656.0    1.0  7.220130    0.0     M      p   \n",
       "2      8    258     A  19.220830  2817.0    1.0  8.727214    1.0     M      p   \n",
       "3      4    147     A  15.752732  1948.0    1.0  6.078818    1.0     M      p   \n",
       "4      5    230     H  10.195407  1336.0    1.0  4.749185    0.0     M      p   \n",
       "\n",
       "      output  \n",
       "0  86.108947  \n",
       "1  42.606833  \n",
       "2  85.625961  \n",
       "3  53.656277  \n",
       "4  64.925051  "
      ]
     },
     "execution_count": 3,
     "metadata": {},
     "output_type": "execute_result"
    }
   ],
   "source": [
    "train.head()"
   ]
  },
  {
   "cell_type": "code",
   "execution_count": 4,
   "metadata": {},
   "outputs": [
    {
     "data": {
      "text/plain": [
       "data1     10000\n",
       "data2     10000\n",
       "data3     10000\n",
       "data4     10000\n",
       "data5      9999\n",
       "data6      9997\n",
       "data7      9998\n",
       "data8      9999\n",
       "data9      9999\n",
       "data10     9999\n",
       "output     9999\n",
       "dtype: int64"
      ]
     },
     "execution_count": 4,
     "metadata": {},
     "output_type": "execute_result"
    }
   ],
   "source": [
    "train.count()"
   ]
  },
  {
   "cell_type": "code",
   "execution_count": 5,
   "metadata": {},
   "outputs": [
    {
     "data": {
      "text/plain": [
       "data1     0\n",
       "data2     0\n",
       "data3     0\n",
       "data4     0\n",
       "data5     1\n",
       "data6     3\n",
       "data7     2\n",
       "data8     1\n",
       "data9     1\n",
       "data10    1\n",
       "output    1\n",
       "dtype: int64"
      ]
     },
     "execution_count": 5,
     "metadata": {},
     "output_type": "execute_result"
    }
   ],
   "source": [
    "train.isnull().sum()"
   ]
  },
  {
   "cell_type": "code",
   "execution_count": 6,
   "metadata": {},
   "outputs": [
    {
     "name": "stdout",
     "output_type": "stream",
     "text": [
      "<class 'pandas.core.frame.DataFrame'>\n",
      "RangeIndex: 10000 entries, 0 to 9999\n",
      "Data columns (total 11 columns):\n",
      " #   Column  Non-Null Count  Dtype  \n",
      "---  ------  --------------  -----  \n",
      " 0   data1   10000 non-null  int64  \n",
      " 1   data2   10000 non-null  int64  \n",
      " 2   data3   10000 non-null  object \n",
      " 3   data4   10000 non-null  float64\n",
      " 4   data5   9999 non-null   float64\n",
      " 5   data6   9997 non-null   float64\n",
      " 6   data7   9998 non-null   float64\n",
      " 7   data8   9999 non-null   float64\n",
      " 8   data9   9999 non-null   object \n",
      " 9   data10  9999 non-null   object \n",
      " 10  output  9999 non-null   float64\n",
      "dtypes: float64(6), int64(2), object(3)\n",
      "memory usage: 859.5+ KB\n"
     ]
    }
   ],
   "source": [
    "train.info()"
   ]
  },
  {
   "cell_type": "code",
   "execution_count": 7,
   "metadata": {},
   "outputs": [
    {
     "data": {
      "text/html": [
       "<div>\n",
       "<style scoped>\n",
       "    .dataframe tbody tr th:only-of-type {\n",
       "        vertical-align: middle;\n",
       "    }\n",
       "\n",
       "    .dataframe tbody tr th {\n",
       "        vertical-align: top;\n",
       "    }\n",
       "\n",
       "    .dataframe thead th {\n",
       "        text-align: right;\n",
       "    }\n",
       "</style>\n",
       "<table border=\"1\" class=\"dataframe\">\n",
       "  <thead>\n",
       "    <tr style=\"text-align: right;\">\n",
       "      <th></th>\n",
       "      <th>data1</th>\n",
       "      <th>data2</th>\n",
       "      <th>data4</th>\n",
       "      <th>data5</th>\n",
       "      <th>data6</th>\n",
       "      <th>data7</th>\n",
       "      <th>data8</th>\n",
       "      <th>output</th>\n",
       "    </tr>\n",
       "  </thead>\n",
       "  <tbody>\n",
       "    <tr>\n",
       "      <th>count</th>\n",
       "      <td>10000.000000</td>\n",
       "      <td>10000.000000</td>\n",
       "      <td>10000.000000</td>\n",
       "      <td>9999.000000</td>\n",
       "      <td>9997.000000</td>\n",
       "      <td>9998.000000</td>\n",
       "      <td>9999.000000</td>\n",
       "      <td>9999.000000</td>\n",
       "    </tr>\n",
       "    <tr>\n",
       "      <th>mean</th>\n",
       "      <td>4.500200</td>\n",
       "      <td>199.937000</td>\n",
       "      <td>19.980069</td>\n",
       "      <td>1999.994099</td>\n",
       "      <td>0.499850</td>\n",
       "      <td>5.032647</td>\n",
       "      <td>0.989699</td>\n",
       "      <td>67.641293</td>\n",
       "    </tr>\n",
       "    <tr>\n",
       "      <th>std</th>\n",
       "      <td>3.468602</td>\n",
       "      <td>57.637745</td>\n",
       "      <td>5.790647</td>\n",
       "      <td>575.293177</td>\n",
       "      <td>0.500025</td>\n",
       "      <td>2.882390</td>\n",
       "      <td>0.812112</td>\n",
       "      <td>13.373996</td>\n",
       "    </tr>\n",
       "    <tr>\n",
       "      <th>min</th>\n",
       "      <td>0.000000</td>\n",
       "      <td>100.000000</td>\n",
       "      <td>0.000000</td>\n",
       "      <td>4.000000</td>\n",
       "      <td>0.000000</td>\n",
       "      <td>0.001195</td>\n",
       "      <td>0.000000</td>\n",
       "      <td>30.857090</td>\n",
       "    </tr>\n",
       "    <tr>\n",
       "      <th>25%</th>\n",
       "      <td>2.000000</td>\n",
       "      <td>149.000000</td>\n",
       "      <td>14.928790</td>\n",
       "      <td>1505.000000</td>\n",
       "      <td>0.000000</td>\n",
       "      <td>2.541841</td>\n",
       "      <td>0.000000</td>\n",
       "      <td>57.393568</td>\n",
       "    </tr>\n",
       "    <tr>\n",
       "      <th>50%</th>\n",
       "      <td>4.000000</td>\n",
       "      <td>201.000000</td>\n",
       "      <td>20.000361</td>\n",
       "      <td>1999.000000</td>\n",
       "      <td>0.000000</td>\n",
       "      <td>5.008526</td>\n",
       "      <td>1.000000</td>\n",
       "      <td>67.877814</td>\n",
       "    </tr>\n",
       "    <tr>\n",
       "      <th>75%</th>\n",
       "      <td>7.000000</td>\n",
       "      <td>250.000000</td>\n",
       "      <td>24.979557</td>\n",
       "      <td>2490.000000</td>\n",
       "      <td>1.000000</td>\n",
       "      <td>7.520097</td>\n",
       "      <td>2.000000</td>\n",
       "      <td>77.831703</td>\n",
       "    </tr>\n",
       "    <tr>\n",
       "      <th>max</th>\n",
       "      <td>200.000000</td>\n",
       "      <td>299.000000</td>\n",
       "      <td>70.002000</td>\n",
       "      <td>2999.000000</td>\n",
       "      <td>1.000000</td>\n",
       "      <td>9.999848</td>\n",
       "      <td>2.000000</td>\n",
       "      <td>103.809450</td>\n",
       "    </tr>\n",
       "  </tbody>\n",
       "</table>\n",
       "</div>"
      ],
      "text/plain": [
       "              data1         data2         data4        data5        data6  \\\n",
       "count  10000.000000  10000.000000  10000.000000  9999.000000  9997.000000   \n",
       "mean       4.500200    199.937000     19.980069  1999.994099     0.499850   \n",
       "std        3.468602     57.637745      5.790647   575.293177     0.500025   \n",
       "min        0.000000    100.000000      0.000000     4.000000     0.000000   \n",
       "25%        2.000000    149.000000     14.928790  1505.000000     0.000000   \n",
       "50%        4.000000    201.000000     20.000361  1999.000000     0.000000   \n",
       "75%        7.000000    250.000000     24.979557  2490.000000     1.000000   \n",
       "max      200.000000    299.000000     70.002000  2999.000000     1.000000   \n",
       "\n",
       "             data7        data8       output  \n",
       "count  9998.000000  9999.000000  9999.000000  \n",
       "mean      5.032647     0.989699    67.641293  \n",
       "std       2.882390     0.812112    13.373996  \n",
       "min       0.001195     0.000000    30.857090  \n",
       "25%       2.541841     0.000000    57.393568  \n",
       "50%       5.008526     1.000000    67.877814  \n",
       "75%       7.520097     2.000000    77.831703  \n",
       "max       9.999848     2.000000   103.809450  "
      ]
     },
     "execution_count": 7,
     "metadata": {},
     "output_type": "execute_result"
    }
   ],
   "source": [
    "train.describe()"
   ]
  },
  {
   "cell_type": "code",
   "execution_count": 8,
   "metadata": {},
   "outputs": [
    {
     "data": {
      "text/html": [
       "<div>\n",
       "<style scoped>\n",
       "    .dataframe tbody tr th:only-of-type {\n",
       "        vertical-align: middle;\n",
       "    }\n",
       "\n",
       "    .dataframe tbody tr th {\n",
       "        vertical-align: top;\n",
       "    }\n",
       "\n",
       "    .dataframe thead th {\n",
       "        text-align: right;\n",
       "    }\n",
       "</style>\n",
       "<table border=\"1\" class=\"dataframe\">\n",
       "  <thead>\n",
       "    <tr style=\"text-align: right;\">\n",
       "      <th></th>\n",
       "      <th>data1</th>\n",
       "      <th>data2</th>\n",
       "      <th>data3</th>\n",
       "      <th>data4</th>\n",
       "      <th>data5</th>\n",
       "      <th>data6</th>\n",
       "      <th>data7</th>\n",
       "      <th>data8</th>\n",
       "      <th>output</th>\n",
       "    </tr>\n",
       "  </thead>\n",
       "  <tbody>\n",
       "    <tr>\n",
       "      <th>0</th>\n",
       "      <td>8</td>\n",
       "      <td>279</td>\n",
       "      <td>C</td>\n",
       "      <td>14.451155</td>\n",
       "      <td>1139.0</td>\n",
       "      <td>1.0</td>\n",
       "      <td>9.302908</td>\n",
       "      <td>1.0</td>\n",
       "      <td>86.108947</td>\n",
       "    </tr>\n",
       "    <tr>\n",
       "      <th>1</th>\n",
       "      <td>1</td>\n",
       "      <td>108</td>\n",
       "      <td>H</td>\n",
       "      <td>14.207448</td>\n",
       "      <td>1656.0</td>\n",
       "      <td>1.0</td>\n",
       "      <td>7.220130</td>\n",
       "      <td>0.0</td>\n",
       "      <td>42.606833</td>\n",
       "    </tr>\n",
       "    <tr>\n",
       "      <th>2</th>\n",
       "      <td>8</td>\n",
       "      <td>258</td>\n",
       "      <td>A</td>\n",
       "      <td>19.220830</td>\n",
       "      <td>2817.0</td>\n",
       "      <td>1.0</td>\n",
       "      <td>8.727214</td>\n",
       "      <td>1.0</td>\n",
       "      <td>85.625961</td>\n",
       "    </tr>\n",
       "    <tr>\n",
       "      <th>3</th>\n",
       "      <td>4</td>\n",
       "      <td>147</td>\n",
       "      <td>A</td>\n",
       "      <td>15.752732</td>\n",
       "      <td>1948.0</td>\n",
       "      <td>1.0</td>\n",
       "      <td>6.078818</td>\n",
       "      <td>1.0</td>\n",
       "      <td>53.656277</td>\n",
       "    </tr>\n",
       "    <tr>\n",
       "      <th>4</th>\n",
       "      <td>5</td>\n",
       "      <td>230</td>\n",
       "      <td>H</td>\n",
       "      <td>10.195407</td>\n",
       "      <td>1336.0</td>\n",
       "      <td>1.0</td>\n",
       "      <td>4.749185</td>\n",
       "      <td>0.0</td>\n",
       "      <td>64.925051</td>\n",
       "    </tr>\n",
       "  </tbody>\n",
       "</table>\n",
       "</div>"
      ],
      "text/plain": [
       "   data1  data2 data3      data4   data5  data6     data7  data8     output\n",
       "0      8    279     C  14.451155  1139.0    1.0  9.302908    1.0  86.108947\n",
       "1      1    108     H  14.207448  1656.0    1.0  7.220130    0.0  42.606833\n",
       "2      8    258     A  19.220830  2817.0    1.0  8.727214    1.0  85.625961\n",
       "3      4    147     A  15.752732  1948.0    1.0  6.078818    1.0  53.656277\n",
       "4      5    230     H  10.195407  1336.0    1.0  4.749185    0.0  64.925051"
      ]
     },
     "execution_count": 8,
     "metadata": {},
     "output_type": "execute_result"
    }
   ],
   "source": [
    "train.drop('data9',axis =1,inplace = True)\n",
    "train.drop('data10',axis =1,inplace = True)\n",
    "train.head()"
   ]
  },
  {
   "cell_type": "code",
   "execution_count": 9,
   "metadata": {},
   "outputs": [],
   "source": [
    "train.dropna(subset = ['output'], inplace=True)"
   ]
  },
  {
   "cell_type": "code",
   "execution_count": 10,
   "metadata": {},
   "outputs": [
    {
     "name": "stdout",
     "output_type": "stream",
     "text": [
      "    data1  data2 data3      data4   data5  data6     data7  data8     output\n",
      "40      0    128     E  29.546179  2181.0    NaN       NaN    2.0  57.219083\n",
      "41      9    250     D  29.807073  2242.0    1.0  4.550351    1.0  90.376716\n",
      "42      7    288     B  14.710382  1321.0    1.0  8.759263    1.0  86.598606\n",
      "43      2    219     A  25.589476  1539.0    NaN  7.085797    2.0  75.916325\n",
      "44      1    282     B  25.128643  1996.0    1.0  2.967270    1.0  82.983048\n",
      "45      3    172     A  28.146361  2262.0    1.0  9.871408    0.0  72.603133\n",
      "46      0    221     G  23.039861     4.0    1.0  6.177243    2.0  71.113118\n",
      "47      9    150     C  11.326121  2473.0    1.0  6.028054    2.0  55.221563\n",
      "48      9    102     G  28.339880  1955.0    1.0  2.846756    1.0  57.752648\n"
     ]
    }
   ],
   "source": [
    "print(train.iloc[40:49,:])"
   ]
  },
  {
   "cell_type": "code",
   "execution_count": 11,
   "metadata": {},
   "outputs": [
    {
     "name": "stdout",
     "output_type": "stream",
     "text": [
      "    data1  data2 data3      data4   data5  data6     data7  data8     output\n",
      "40      0    128     E  29.546179  2181.0    1.0       NaN    2.0  57.219083\n",
      "41      9    250     D  29.807073  2242.0    1.0  4.550351    1.0  90.376716\n",
      "42      7    288     B  14.710382  1321.0    1.0  8.759263    1.0  86.598606\n",
      "43      2    219     A  25.589476  1539.0    1.0  7.085797    2.0  75.916325\n",
      "44      1    282     B  25.128643  1996.0    1.0  2.967270    1.0  82.983048\n",
      "45      3    172     A  28.146361  2262.0    1.0  9.871408    0.0  72.603133\n",
      "46      0    221     G  23.039861     4.0    1.0  6.177243    2.0  71.113118\n",
      "47      9    150     C  11.326121  2473.0    1.0  6.028054    2.0  55.221563\n",
      "48      9    102     G  28.339880  1955.0    1.0  2.846756    1.0  57.752648\n"
     ]
    }
   ],
   "source": [
    "train['data6'].fillna(method='ffill',inplace=True)\n",
    "print(train.iloc[40:49,:])"
   ]
  },
  {
   "cell_type": "code",
   "execution_count": 13,
   "metadata": {},
   "outputs": [
    {
     "name": "stdout",
     "output_type": "stream",
     "text": [
      "    data1  data2 data3      data4   data5  data6     data7  data8     output\n",
      "40      0    128     E  29.546179  2181.0    1.0  5.032647    2.0  57.219083\n",
      "41      9    250     D  29.807073  2242.0    1.0  4.550351    1.0  90.376716\n",
      "42      7    288     B  14.710382  1321.0    1.0  8.759263    1.0  86.598606\n",
      "43      2    219     A  25.589476  1539.0    1.0  7.085797    2.0  75.916325\n",
      "44      1    282     B  25.128643  1996.0    1.0  2.967270    1.0  82.983048\n",
      "45      3    172     A  28.146361  2262.0    1.0  9.871408    0.0  72.603133\n",
      "46      0    221     G  23.039861     4.0    1.0  6.177243    2.0  71.113118\n",
      "47      9    150     C  11.326121  2473.0    1.0  6.028054    2.0  55.221563\n",
      "48      9    102     G  28.339880  1955.0    1.0  2.846756    1.0  57.752648\n"
     ]
    }
   ],
   "source": [
    "train=train.fillna(train.mean())\n",
    "print(train.iloc[40:49,:])"
   ]
  },
  {
   "cell_type": "code",
   "execution_count": 14,
   "metadata": {},
   "outputs": [
    {
     "data": {
      "text/plain": [
       "data1     0\n",
       "data2     0\n",
       "data3     0\n",
       "data4     0\n",
       "data5     0\n",
       "data6     0\n",
       "data7     0\n",
       "data8     0\n",
       "output    0\n",
       "dtype: int64"
      ]
     },
     "execution_count": 14,
     "metadata": {},
     "output_type": "execute_result"
    }
   ],
   "source": [
    "train.isnull().sum()"
   ]
  },
  {
   "cell_type": "code",
   "execution_count": 15,
   "metadata": {},
   "outputs": [
    {
     "data": {
      "text/html": [
       "<div>\n",
       "<style scoped>\n",
       "    .dataframe tbody tr th:only-of-type {\n",
       "        vertical-align: middle;\n",
       "    }\n",
       "\n",
       "    .dataframe tbody tr th {\n",
       "        vertical-align: top;\n",
       "    }\n",
       "\n",
       "    .dataframe thead th {\n",
       "        text-align: right;\n",
       "    }\n",
       "</style>\n",
       "<table border=\"1\" class=\"dataframe\">\n",
       "  <thead>\n",
       "    <tr style=\"text-align: right;\">\n",
       "      <th></th>\n",
       "      <th>data1</th>\n",
       "      <th>data2</th>\n",
       "      <th>data3</th>\n",
       "      <th>data4</th>\n",
       "      <th>data5</th>\n",
       "      <th>data6</th>\n",
       "      <th>data7</th>\n",
       "      <th>data8</th>\n",
       "      <th>output</th>\n",
       "    </tr>\n",
       "  </thead>\n",
       "  <tbody>\n",
       "    <tr>\n",
       "      <th>0</th>\n",
       "      <td>8</td>\n",
       "      <td>279</td>\n",
       "      <td>2</td>\n",
       "      <td>14.451155</td>\n",
       "      <td>1139.0</td>\n",
       "      <td>1.0</td>\n",
       "      <td>9.302908</td>\n",
       "      <td>1.0</td>\n",
       "      <td>86.108947</td>\n",
       "    </tr>\n",
       "    <tr>\n",
       "      <th>1</th>\n",
       "      <td>1</td>\n",
       "      <td>108</td>\n",
       "      <td>7</td>\n",
       "      <td>14.207448</td>\n",
       "      <td>1656.0</td>\n",
       "      <td>1.0</td>\n",
       "      <td>7.220130</td>\n",
       "      <td>0.0</td>\n",
       "      <td>42.606833</td>\n",
       "    </tr>\n",
       "    <tr>\n",
       "      <th>2</th>\n",
       "      <td>8</td>\n",
       "      <td>258</td>\n",
       "      <td>0</td>\n",
       "      <td>19.220830</td>\n",
       "      <td>2817.0</td>\n",
       "      <td>1.0</td>\n",
       "      <td>8.727214</td>\n",
       "      <td>1.0</td>\n",
       "      <td>85.625961</td>\n",
       "    </tr>\n",
       "    <tr>\n",
       "      <th>3</th>\n",
       "      <td>4</td>\n",
       "      <td>147</td>\n",
       "      <td>0</td>\n",
       "      <td>15.752732</td>\n",
       "      <td>1948.0</td>\n",
       "      <td>1.0</td>\n",
       "      <td>6.078818</td>\n",
       "      <td>1.0</td>\n",
       "      <td>53.656277</td>\n",
       "    </tr>\n",
       "    <tr>\n",
       "      <th>4</th>\n",
       "      <td>5</td>\n",
       "      <td>230</td>\n",
       "      <td>7</td>\n",
       "      <td>10.195407</td>\n",
       "      <td>1336.0</td>\n",
       "      <td>1.0</td>\n",
       "      <td>4.749185</td>\n",
       "      <td>0.0</td>\n",
       "      <td>64.925051</td>\n",
       "    </tr>\n",
       "  </tbody>\n",
       "</table>\n",
       "</div>"
      ],
      "text/plain": [
       "   data1  data2  data3      data4   data5  data6     data7  data8     output\n",
       "0      8    279      2  14.451155  1139.0    1.0  9.302908    1.0  86.108947\n",
       "1      1    108      7  14.207448  1656.0    1.0  7.220130    0.0  42.606833\n",
       "2      8    258      0  19.220830  2817.0    1.0  8.727214    1.0  85.625961\n",
       "3      4    147      0  15.752732  1948.0    1.0  6.078818    1.0  53.656277\n",
       "4      5    230      7  10.195407  1336.0    1.0  4.749185    0.0  64.925051"
      ]
     },
     "execution_count": 15,
     "metadata": {},
     "output_type": "execute_result"
    }
   ],
   "source": [
    "from sklearn.preprocessing import LabelEncoder\n",
    "labelencoder=LabelEncoder()\n",
    "\n",
    "train['data3']=labelencoder.fit_transform(train['data3'])\n",
    "train.head()\n",
    "\n",
    "\n"
   ]
  },
  {
   "cell_type": "code",
   "execution_count": 17,
   "metadata": {},
   "outputs": [
    {
     "data": {
      "image/png": "[encoded data removed]",
      "text/plain": [
       "<Figure size 1080x1800 with 9 Axes>"
      ]
     },
     "metadata": {
      "needs_background": "light"
     },
     "output_type": "display_data"
    }
   ],
   "source": [
    "#checking for outliers\n",
    "plt.figure(figsize = (15,25))\n",
    "count = 1\n",
    "for col in train:\n",
    "    plt.subplot(7,2,count)\n",
    "    plt.boxplot(train[col])\n",
    "    plt.title(col)\n",
    "    count +=1\n",
    "        \n",
    "plt.show()"
   ]
  },
  {
   "cell_type": "code",
   "execution_count": 18,
   "metadata": {},
   "outputs": [
    {
     "data": {
      "text/plain": [
       "(9999, 9)"
      ]
     },
     "execution_count": 18,
     "metadata": {},
     "output_type": "execute_result"
    }
   ],
   "source": [
    "train.shape"
   ]
  },
  {
   "cell_type": "code",
   "execution_count": 20,
   "metadata": {},
   "outputs": [],
   "source": [
    "#seperating X and y\n",
    "X = train.iloc[:,:-1].values\n",
    "y = train.iloc[:,-1].values\n"
   ]
  },
  {
   "cell_type": "code",
   "execution_count": 28,
   "metadata": {},
   "outputs": [
    {
     "data": {
      "text/plain": [
       "array([[ 1.00894945,  1.37168621, -0.66190154, ...,  1.00010002,\n",
       "         1.48164814,  0.01268488],\n",
       "       [-1.00932431, -1.595202  ,  1.52064479, ...,  1.00010002,\n",
       "         0.75898884, -1.21873404],\n",
       "       [ 1.00894945,  1.00733152, -1.53492007, ...,  1.00010002,\n",
       "         1.28190029,  0.01268488],\n",
       "       ...,\n",
       "       [ 0.4322998 , -0.20718412, -0.22539227, ..., -0.99989999,\n",
       "        -0.74689526, -1.21873404],\n",
       "       [-1.00932431, -1.17879663,  1.52064479, ..., -0.99989999,\n",
       "         0.67677854,  1.2441038 ],\n",
       "       [ 0.14397498,  1.11143286, -1.53492007, ..., -0.99989999,\n",
       "         1.12537783,  1.2441038 ]])"
      ]
     },
     "execution_count": 28,
     "metadata": {},
     "output_type": "execute_result"
    }
   ],
   "source": [
    "from sklearn import preprocessing\n",
    "X =preprocessing.StandardScaler().fit_transform(X)\n",
    "X"
   ]
  },
  {
   "cell_type": "code",
   "execution_count": 29,
   "metadata": {},
   "outputs": [],
   "source": [
    "#dividing into train and test\n",
    "from sklearn.model_selection import train_test_split\n",
    "X_train, X_test, y_train, y_test = train_test_split(X, y, test_size=0.3, random_state=101)"
   ]
  },
  {
   "cell_type": "code",
   "execution_count": 30,
   "metadata": {},
   "outputs": [],
   "source": [
    "from sklearn.linear_model import LinearRegression"
   ]
  },
  {
   "cell_type": "code",
   "execution_count": 31,
   "metadata": {},
   "outputs": [],
   "source": [
    "MLR = LinearRegression()"
   ]
  },
  {
   "cell_type": "code",
   "execution_count": 32,
   "metadata": {},
   "outputs": [
    {
     "data": {
      "text/plain": [
       "LinearRegression()"
      ]
     },
     "execution_count": 32,
     "metadata": {},
     "output_type": "execute_result"
    }
   ],
   "source": [
    "MLR.fit(X_train,y_train)"
   ]
  },
  {
   "cell_type": "code",
   "execution_count": 53,
   "metadata": {},
   "outputs": [
    {
     "name": "stdout",
     "output_type": "stream",
     "text": [
      "[ 2.05878907e+00  1.15512866e+01  4.93939908e-02  5.12503801e+00\n",
      " -8.48744824e-03 -1.90497733e-01  2.90526239e+00  8.34720787e-03]\n",
      "67.61644798401834\n"
     ]
    }
   ],
   "source": [
    "#prediction\n",
    "y_pred = MLR.predict(X_test)\n",
    "print(MLR.coef_)\n",
    "print(MLR.intercept_)"
   ]
  },
  {
   "cell_type": "code",
   "execution_count": 56,
   "metadata": {},
   "outputs": [
    {
     "data": {
      "text/html": [
       "<div>\n",
       "<style scoped>\n",
       "    .dataframe tbody tr th:only-of-type {\n",
       "        vertical-align: middle;\n",
       "    }\n",
       "\n",
       "    .dataframe tbody tr th {\n",
       "        vertical-align: top;\n",
       "    }\n",
       "\n",
       "    .dataframe thead th {\n",
       "        text-align: right;\n",
       "    }\n",
       "</style>\n",
       "<table border=\"1\" class=\"dataframe\">\n",
       "  <thead>\n",
       "    <tr style=\"text-align: right;\">\n",
       "      <th></th>\n",
       "      <th>y_test</th>\n",
       "      <th>y_pred</th>\n",
       "    </tr>\n",
       "  </thead>\n",
       "  <tbody>\n",
       "    <tr>\n",
       "      <th>0</th>\n",
       "      <td>42.284988</td>\n",
       "      <td>43.922142</td>\n",
       "    </tr>\n",
       "    <tr>\n",
       "      <th>1</th>\n",
       "      <td>65.556045</td>\n",
       "      <td>64.169853</td>\n",
       "    </tr>\n",
       "    <tr>\n",
       "      <th>2</th>\n",
       "      <td>44.297092</td>\n",
       "      <td>45.808369</td>\n",
       "    </tr>\n",
       "    <tr>\n",
       "      <th>3</th>\n",
       "      <td>62.890713</td>\n",
       "      <td>60.967010</td>\n",
       "    </tr>\n",
       "    <tr>\n",
       "      <th>4</th>\n",
       "      <td>80.468042</td>\n",
       "      <td>79.896002</td>\n",
       "    </tr>\n",
       "    <tr>\n",
       "      <th>...</th>\n",
       "      <td>...</td>\n",
       "      <td>...</td>\n",
       "    </tr>\n",
       "    <tr>\n",
       "      <th>2995</th>\n",
       "      <td>63.401610</td>\n",
       "      <td>63.495156</td>\n",
       "    </tr>\n",
       "    <tr>\n",
       "      <th>2996</th>\n",
       "      <td>84.104356</td>\n",
       "      <td>82.133712</td>\n",
       "    </tr>\n",
       "    <tr>\n",
       "      <th>2997</th>\n",
       "      <td>53.462491</td>\n",
       "      <td>51.571885</td>\n",
       "    </tr>\n",
       "    <tr>\n",
       "      <th>2998</th>\n",
       "      <td>91.602944</td>\n",
       "      <td>91.589013</td>\n",
       "    </tr>\n",
       "    <tr>\n",
       "      <th>2999</th>\n",
       "      <td>48.983902</td>\n",
       "      <td>49.451218</td>\n",
       "    </tr>\n",
       "  </tbody>\n",
       "</table>\n",
       "<p>3000 rows × 2 columns</p>\n",
       "</div>"
      ],
      "text/plain": [
       "         y_test     y_pred\n",
       "0     42.284988  43.922142\n",
       "1     65.556045  64.169853\n",
       "2     44.297092  45.808369\n",
       "3     62.890713  60.967010\n",
       "4     80.468042  79.896002\n",
       "...         ...        ...\n",
       "2995  63.401610  63.495156\n",
       "2996  84.104356  82.133712\n",
       "2997  53.462491  51.571885\n",
       "2998  91.602944  91.589013\n",
       "2999  48.983902  49.451218\n",
       "\n",
       "[3000 rows x 2 columns]"
      ]
     },
     "execution_count": 56,
     "metadata": {},
     "output_type": "execute_result"
    }
   ],
   "source": [
    "prediction_output =pd.DataFrame(data=[y_test,y_pred],index=['y_test','y_pred'])\n",
    "prediction_output.transpose()"
   ]
  },
  {
   "cell_type": "code",
   "execution_count": 68,
   "metadata": {},
   "outputs": [
    {
     "data": {
      "text/html": [
       "<div>\n",
       "<style scoped>\n",
       "    .dataframe tbody tr th:only-of-type {\n",
       "        vertical-align: middle;\n",
       "    }\n",
       "\n",
       "    .dataframe tbody tr th {\n",
       "        vertical-align: top;\n",
       "    }\n",
       "\n",
       "    .dataframe thead th {\n",
       "        text-align: right;\n",
       "    }\n",
       "</style>\n",
       "<table border=\"1\" class=\"dataframe\">\n",
       "  <thead>\n",
       "    <tr style=\"text-align: right;\">\n",
       "      <th></th>\n",
       "      <th>data1</th>\n",
       "      <th>data2</th>\n",
       "      <th>data3</th>\n",
       "      <th>data4</th>\n",
       "      <th>data5</th>\n",
       "      <th>data6</th>\n",
       "      <th>data7</th>\n",
       "      <th>data8</th>\n",
       "      <th>data9</th>\n",
       "      <th>data10</th>\n",
       "    </tr>\n",
       "  </thead>\n",
       "  <tbody>\n",
       "    <tr>\n",
       "      <th>0</th>\n",
       "      <td>7</td>\n",
       "      <td>195</td>\n",
       "      <td>A</td>\n",
       "      <td>29.038043</td>\n",
       "      <td>2725</td>\n",
       "      <td>1</td>\n",
       "      <td>6.145731</td>\n",
       "      <td>2</td>\n",
       "      <td>M</td>\n",
       "      <td>p</td>\n",
       "    </tr>\n",
       "    <tr>\n",
       "      <th>1</th>\n",
       "      <td>9</td>\n",
       "      <td>109</td>\n",
       "      <td>F</td>\n",
       "      <td>20.221431</td>\n",
       "      <td>1184</td>\n",
       "      <td>1</td>\n",
       "      <td>9.334184</td>\n",
       "      <td>2</td>\n",
       "      <td>M</td>\n",
       "      <td>p</td>\n",
       "    </tr>\n",
       "    <tr>\n",
       "      <th>2</th>\n",
       "      <td>0</td>\n",
       "      <td>126</td>\n",
       "      <td>C</td>\n",
       "      <td>26.477532</td>\n",
       "      <td>2975</td>\n",
       "      <td>1</td>\n",
       "      <td>9.021806</td>\n",
       "      <td>1</td>\n",
       "      <td>M</td>\n",
       "      <td>p</td>\n",
       "    </tr>\n",
       "    <tr>\n",
       "      <th>3</th>\n",
       "      <td>2</td>\n",
       "      <td>209</td>\n",
       "      <td>E</td>\n",
       "      <td>13.445450</td>\n",
       "      <td>1067</td>\n",
       "      <td>1</td>\n",
       "      <td>1.814993</td>\n",
       "      <td>0</td>\n",
       "      <td>M</td>\n",
       "      <td>p</td>\n",
       "    </tr>\n",
       "    <tr>\n",
       "      <th>4</th>\n",
       "      <td>5</td>\n",
       "      <td>268</td>\n",
       "      <td>B</td>\n",
       "      <td>25.065894</td>\n",
       "      <td>1336</td>\n",
       "      <td>1</td>\n",
       "      <td>1.639130</td>\n",
       "      <td>1</td>\n",
       "      <td>M</td>\n",
       "      <td>p</td>\n",
       "    </tr>\n",
       "  </tbody>\n",
       "</table>\n",
       "</div>"
      ],
      "text/plain": [
       "   data1  data2 data3      data4  data5  data6     data7  data8 data9 data10\n",
       "0      7    195     A  29.038043   2725      1  6.145731      2     M      p\n",
       "1      9    109     F  20.221431   1184      1  9.334184      2     M      p\n",
       "2      0    126     C  26.477532   2975      1  9.021806      1     M      p\n",
       "3      2    209     E  13.445450   1067      1  1.814993      0     M      p\n",
       "4      5    268     B  25.065894   1336      1  1.639130      1     M      p"
      ]
     },
     "execution_count": 68,
     "metadata": {},
     "output_type": "execute_result"
    }
   ],
   "source": [
    "test=pd.read_csv('regression_test.csv')\n",
    "test.head()"
   ]
  },
  {
   "cell_type": "code",
   "execution_count": 69,
   "metadata": {},
   "outputs": [
    {
     "data": {
      "text/plain": [
       "data1     0\n",
       "data2     0\n",
       "data3     0\n",
       "data4     0\n",
       "data5     0\n",
       "data6     0\n",
       "data7     0\n",
       "data8     0\n",
       "data9     0\n",
       "data10    0\n",
       "dtype: int64"
      ]
     },
     "execution_count": 69,
     "metadata": {},
     "output_type": "execute_result"
    }
   ],
   "source": [
    "test.isnull().sum()"
   ]
  },
  {
   "cell_type": "code",
   "execution_count": 70,
   "metadata": {},
   "outputs": [
    {
     "data": {
      "text/plain": [
       "data1     10000\n",
       "data2     10000\n",
       "data3     10000\n",
       "data4     10000\n",
       "data5     10000\n",
       "data6     10000\n",
       "data7     10000\n",
       "data8     10000\n",
       "data9     10000\n",
       "data10    10000\n",
       "dtype: int64"
      ]
     },
     "execution_count": 70,
     "metadata": {},
     "output_type": "execute_result"
    }
   ],
   "source": [
    "test.count()"
   ]
  },
  {
   "cell_type": "code",
   "execution_count": 71,
   "metadata": {},
   "outputs": [],
   "source": [
    "test['data3']=labelencoder.fit_transform(test['data3'])"
   ]
  },
  {
   "cell_type": "code",
   "execution_count": 76,
   "metadata": {},
   "outputs": [
    {
     "data": {
      "text/html": [
       "<div>\n",
       "<style scoped>\n",
       "    .dataframe tbody tr th:only-of-type {\n",
       "        vertical-align: middle;\n",
       "    }\n",
       "\n",
       "    .dataframe tbody tr th {\n",
       "        vertical-align: top;\n",
       "    }\n",
       "\n",
       "    .dataframe thead th {\n",
       "        text-align: right;\n",
       "    }\n",
       "</style>\n",
       "<table border=\"1\" class=\"dataframe\">\n",
       "  <thead>\n",
       "    <tr style=\"text-align: right;\">\n",
       "      <th></th>\n",
       "      <th>data1</th>\n",
       "      <th>data2</th>\n",
       "      <th>data3</th>\n",
       "      <th>data4</th>\n",
       "      <th>data5</th>\n",
       "      <th>data6</th>\n",
       "      <th>data7</th>\n",
       "      <th>data8</th>\n",
       "    </tr>\n",
       "  </thead>\n",
       "  <tbody>\n",
       "    <tr>\n",
       "      <th>0</th>\n",
       "      <td>7</td>\n",
       "      <td>195</td>\n",
       "      <td>0</td>\n",
       "      <td>29.038043</td>\n",
       "      <td>2725</td>\n",
       "      <td>1</td>\n",
       "      <td>6.145731</td>\n",
       "      <td>2</td>\n",
       "    </tr>\n",
       "    <tr>\n",
       "      <th>1</th>\n",
       "      <td>9</td>\n",
       "      <td>109</td>\n",
       "      <td>5</td>\n",
       "      <td>20.221431</td>\n",
       "      <td>1184</td>\n",
       "      <td>1</td>\n",
       "      <td>9.334184</td>\n",
       "      <td>2</td>\n",
       "    </tr>\n",
       "    <tr>\n",
       "      <th>2</th>\n",
       "      <td>0</td>\n",
       "      <td>126</td>\n",
       "      <td>2</td>\n",
       "      <td>26.477532</td>\n",
       "      <td>2975</td>\n",
       "      <td>1</td>\n",
       "      <td>9.021806</td>\n",
       "      <td>1</td>\n",
       "    </tr>\n",
       "    <tr>\n",
       "      <th>3</th>\n",
       "      <td>2</td>\n",
       "      <td>209</td>\n",
       "      <td>4</td>\n",
       "      <td>13.445450</td>\n",
       "      <td>1067</td>\n",
       "      <td>1</td>\n",
       "      <td>1.814993</td>\n",
       "      <td>0</td>\n",
       "    </tr>\n",
       "    <tr>\n",
       "      <th>4</th>\n",
       "      <td>5</td>\n",
       "      <td>268</td>\n",
       "      <td>1</td>\n",
       "      <td>25.065894</td>\n",
       "      <td>1336</td>\n",
       "      <td>1</td>\n",
       "      <td>1.639130</td>\n",
       "      <td>1</td>\n",
       "    </tr>\n",
       "  </tbody>\n",
       "</table>\n",
       "</div>"
      ],
      "text/plain": [
       "   data1  data2  data3      data4  data5  data6     data7  data8\n",
       "0      7    195      0  29.038043   2725      1  6.145731      2\n",
       "1      9    109      5  20.221431   1184      1  9.334184      2\n",
       "2      0    126      2  26.477532   2975      1  9.021806      1\n",
       "3      2    209      4  13.445450   1067      1  1.814993      0\n",
       "4      5    268      1  25.065894   1336      1  1.639130      1"
      ]
     },
     "execution_count": 76,
     "metadata": {},
     "output_type": "execute_result"
    }
   ],
   "source": [
    "\n",
    "test.drop('data9',axis =1,inplace = True)\n",
    "test.drop('data10',axis =1,inplace = True)\n",
    "test.head()"
   ]
  },
  {
   "cell_type": "code",
   "execution_count": 79,
   "metadata": {},
   "outputs": [],
   "source": [
    "Testing = test.iloc[:].values"
   ]
  },
  {
   "cell_type": "code",
   "execution_count": 78,
   "metadata": {},
   "outputs": [
    {
     "name": "stdout",
     "output_type": "stream",
     "text": [
      "[2477.90280111 1466.01367708 1659.65411531 ... 2146.67514793 3590.97039063\n",
      " 3434.96944092]\n"
     ]
    }
   ],
   "source": [
    "Testing_Output = MLR.predict(Testing)\n",
    "print(Testing_Output)"
   ]
  },
  {
   "cell_type": "code",
   "execution_count": 80,
   "metadata": {},
   "outputs": [
    {
     "data": {
      "text/html": [
       "<div>\n",
       "<style scoped>\n",
       "    .dataframe tbody tr th:only-of-type {\n",
       "        vertical-align: middle;\n",
       "    }\n",
       "\n",
       "    .dataframe tbody tr th {\n",
       "        vertical-align: top;\n",
       "    }\n",
       "\n",
       "    .dataframe thead th {\n",
       "        text-align: right;\n",
       "    }\n",
       "</style>\n",
       "<table border=\"1\" class=\"dataframe\">\n",
       "  <thead>\n",
       "    <tr style=\"text-align: right;\">\n",
       "      <th></th>\n",
       "      <th>data1</th>\n",
       "      <th>data2</th>\n",
       "      <th>data3</th>\n",
       "      <th>data4</th>\n",
       "      <th>data5</th>\n",
       "      <th>data6</th>\n",
       "      <th>data7</th>\n",
       "      <th>data8</th>\n",
       "      <th>data9</th>\n",
       "      <th>data10</th>\n",
       "      <th>Output</th>\n",
       "    </tr>\n",
       "  </thead>\n",
       "  <tbody>\n",
       "    <tr>\n",
       "      <th>0</th>\n",
       "      <td>7</td>\n",
       "      <td>195</td>\n",
       "      <td>A</td>\n",
       "      <td>29.038043</td>\n",
       "      <td>2725</td>\n",
       "      <td>1</td>\n",
       "      <td>6.145731</td>\n",
       "      <td>2</td>\n",
       "      <td>M</td>\n",
       "      <td>p</td>\n",
       "      <td>2477.902801</td>\n",
       "    </tr>\n",
       "    <tr>\n",
       "      <th>1</th>\n",
       "      <td>9</td>\n",
       "      <td>109</td>\n",
       "      <td>F</td>\n",
       "      <td>20.221431</td>\n",
       "      <td>1184</td>\n",
       "      <td>1</td>\n",
       "      <td>9.334184</td>\n",
       "      <td>2</td>\n",
       "      <td>M</td>\n",
       "      <td>p</td>\n",
       "      <td>1466.013677</td>\n",
       "    </tr>\n",
       "    <tr>\n",
       "      <th>2</th>\n",
       "      <td>0</td>\n",
       "      <td>126</td>\n",
       "      <td>C</td>\n",
       "      <td>26.477532</td>\n",
       "      <td>2975</td>\n",
       "      <td>1</td>\n",
       "      <td>9.021806</td>\n",
       "      <td>1</td>\n",
       "      <td>M</td>\n",
       "      <td>p</td>\n",
       "      <td>1659.654115</td>\n",
       "    </tr>\n",
       "    <tr>\n",
       "      <th>3</th>\n",
       "      <td>2</td>\n",
       "      <td>209</td>\n",
       "      <td>E</td>\n",
       "      <td>13.445450</td>\n",
       "      <td>1067</td>\n",
       "      <td>1</td>\n",
       "      <td>1.814993</td>\n",
       "      <td>0</td>\n",
       "      <td>M</td>\n",
       "      <td>p</td>\n",
       "      <td>2551.085378</td>\n",
       "    </tr>\n",
       "    <tr>\n",
       "      <th>4</th>\n",
       "      <td>5</td>\n",
       "      <td>268</td>\n",
       "      <td>B</td>\n",
       "      <td>25.065894</td>\n",
       "      <td>1336</td>\n",
       "      <td>1</td>\n",
       "      <td>1.639130</td>\n",
       "      <td>1</td>\n",
       "      <td>M</td>\n",
       "      <td>p</td>\n",
       "      <td>3295.408986</td>\n",
       "    </tr>\n",
       "  </tbody>\n",
       "</table>\n",
       "</div>"
      ],
      "text/plain": [
       "   data1  data2 data3      data4  data5  data6     data7  data8 data9 data10  \\\n",
       "0      7    195     A  29.038043   2725      1  6.145731      2     M      p   \n",
       "1      9    109     F  20.221431   1184      1  9.334184      2     M      p   \n",
       "2      0    126     C  26.477532   2975      1  9.021806      1     M      p   \n",
       "3      2    209     E  13.445450   1067      1  1.814993      0     M      p   \n",
       "4      5    268     B  25.065894   1336      1  1.639130      1     M      p   \n",
       "\n",
       "        Output  \n",
       "0  2477.902801  \n",
       "1  1466.013677  \n",
       "2  1659.654115  \n",
       "3  2551.085378  \n",
       "4  3295.408986  "
      ]
     },
     "execution_count": 80,
     "metadata": {},
     "output_type": "execute_result"
    }
   ],
   "source": [
    "Final_Output=pd.read_csv('regression_test.csv')\n",
    "Final_Output[\"Output\"] = Testing_Output\n",
    "Final_Output.head()\n"
   ]
  },
  {
   "cell_type": "code",
   "execution_count": 81,
   "metadata": {},
   "outputs": [],
   "source": [
    "Final_Output.to_csv('regression_test_output.csv')"
   ]
  },
  {
   "cell_type": "code",
   "execution_count": 82,
   "metadata": {},
   "outputs": [
    {
     "data": {
      "text/plain": [
       "1.5092727222826319"
      ]
     },
     "execution_count": 82,
     "metadata": {},
     "output_type": "execute_result"
    }
   ],
   "source": [
    "from sklearn.metrics import mean_squared_error\n",
    "mean_squared_error(y_test,y_pred) "
   ]
  }
 ],
 "metadata": {
  "kernelspec": {
   "display_name": "Python 3",
   "language": "python",
   "name": "python3"
  },
  "language_info": {
   "codemirror_mode": {
    "name": "ipython",
    "version": 3
   },
   "file_extension": ".py",
   "mimetype": "text/x-python",
   "name": "python",
   "nbconvert_exporter": "python",
   "pygments_lexer": "ipython3",
   "version": "3.8.3"
  }
 },
 "nbformat": 4,
 "nbformat_minor": 4
}
